{
  "nbformat": 4,
  "nbformat_minor": 0,
  "metadata": {
    "colab": {
      "provenance": []
    },
    "kernelspec": {
      "name": "java",
      "display_name": "java"
    },
    "language_info": {
      "name": "java"
    }
  },
  "cells": [
    {
      "cell_type": "code",
      "source": [
        "#perbarui daftar modul untuk memerikasa paket-paket yang perlu ditingkatkan\n",
        "!apt update -q\n",
        "\n",
        "#manambah modul Java Development Kit\n",
        "!apt-get install -q openjdk-11-jdk-headless\n",
        "\n",
        "#mengunduh kernel java\n",
        "!curl -L https://github.com/SpencerPark/IJava/releases/download/v1.3.0/ijava-1.3.0.zip -o ijava-kernel.zip\n",
        "\n",
        "#Ekstrak Kernel Java\n",
        "!unzip -q ijava-kernel.zip -d ijava-kernel && cd ijava-kernel && python3 install.py --sys-prefix\n",
        "\n",
        "#menampilkan spek. kernal dalam lis\n",
        "!jupyter kernelspec list"
      ],
      "metadata": {
        "id": "hLuhXHUI_Nk6"
      },
      "execution_count": null,
      "outputs": []
    },
    {
      "cell_type": "code",
      "source": [],
      "metadata": {
        "id": "5LZitpFpJLQJ"
      },
      "execution_count": null,
      "outputs": []
    }
  ]
}